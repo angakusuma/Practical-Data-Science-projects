{
  "nbformat": 4,
  "nbformat_minor": 0,
  "metadata": {
    "colab": {
      "name": "ML_Models3_re.ipynb",
      "provenance": [],
      "collapsed_sections": []
    },
    "kernelspec": {
      "name": "python3",
      "display_name": "Python 3"
    }
  },
  "cells": [
    {
      "cell_type": "code",
      "metadata": {
        "id": "HjVrujrZsIqc"
      },
      "source": [
        "#warnings\n",
        "import warnings\n",
        "warnings.filterwarnings('ignore')"
      ],
      "execution_count": null,
      "outputs": []
    },
    {
      "cell_type": "code",
      "metadata": {
        "id": "qekgUz4Nsot4"
      },
      "source": [
        "import numpy as np\n",
        "import pandas as pd\n",
        "\n",
        "# data visuzlization\n",
        "import matplotlib.pyplot as plt\n",
        "import seaborn as sns\n",
        "import scipy.stats as st"
      ],
      "execution_count": null,
      "outputs": []
    },
    {
      "cell_type": "code",
      "metadata": {
        "id": "N38D5_-9sreU"
      },
      "source": [
        "# max columns\n",
        "pd.set_option('display.max_columns', None)\n",
        "# max rows\n",
        "pd.set_option('display.max_rows', None)"
      ],
      "execution_count": null,
      "outputs": []
    },
    {
      "cell_type": "code",
      "metadata": {
        "id": "s9ABSUDNstrX"
      },
      "source": [
        "x = pd.read_csv('/content/drive/My Drive/Project/Project 5/dataset_diabetes/x1.csv')\n",
        "y = pd.read_csv('/content/drive/My Drive/Project/Project 5/dataset_diabetes/y1.csv')"
      ],
      "execution_count": null,
      "outputs": []
    },
    {
      "cell_type": "code",
      "metadata": {
        "id": "HJm-N2Hcs20x",
        "outputId": "eb3ab262-03b5-48cb-a3c8-3537ac9bb619",
        "colab": {
          "base_uri": "https://localhost:8080/"
        }
      },
      "source": [
        "x.shape"
      ],
      "execution_count": null,
      "outputs": [
        {
          "output_type": "execute_result",
          "data": {
            "text/plain": [
              "(52110, 38)"
            ]
          },
          "metadata": {
            "tags": []
          },
          "execution_count": 6
        }
      ]
    },
    {
      "cell_type": "code",
      "metadata": {
        "id": "abKoo9ctz-uH",
        "outputId": "e1c715aa-5b80-4a0f-dd6f-62187a5d9745",
        "colab": {
          "base_uri": "https://localhost:8080/",
          "height": 239
        }
      },
      "source": [
        "x.head()"
      ],
      "execution_count": null,
      "outputs": [
        {
          "output_type": "execute_result",
          "data": {
            "text/html": [
              "<div>\n",
              "<style scoped>\n",
              "    .dataframe tbody tr th:only-of-type {\n",
              "        vertical-align: middle;\n",
              "    }\n",
              "\n",
              "    .dataframe tbody tr th {\n",
              "        vertical-align: top;\n",
              "    }\n",
              "\n",
              "    .dataframe thead th {\n",
              "        text-align: right;\n",
              "    }\n",
              "</style>\n",
              "<table border=\"1\" class=\"dataframe\">\n",
              "  <thead>\n",
              "    <tr style=\"text-align: right;\">\n",
              "      <th></th>\n",
              "      <th>Unnamed: 0</th>\n",
              "      <th>age_adult</th>\n",
              "      <th>diag_3_Diabetes</th>\n",
              "      <th>num_lab_procedures</th>\n",
              "      <th>number_emergency</th>\n",
              "      <th>diag_2_Respiratory</th>\n",
              "      <th>diag_3_Others</th>\n",
              "      <th>num_procedures</th>\n",
              "      <th>readmitted_Yes</th>\n",
              "      <th>diag_3_Digestive</th>\n",
              "      <th>diag_3_Respiratory</th>\n",
              "      <th>change_No</th>\n",
              "      <th>diag_1_Injury</th>\n",
              "      <th>diag_2_Diabetes</th>\n",
              "      <th>diag_1_Others</th>\n",
              "      <th>diag_2_Digestive</th>\n",
              "      <th>gender_Male</th>\n",
              "      <th>race_Caucasian</th>\n",
              "      <th>diag_3_Genitourinary</th>\n",
              "      <th>diag_1_Respiratory</th>\n",
              "      <th>diag_1_Diabetes</th>\n",
              "      <th>A1Cresult_Norm</th>\n",
              "      <th>number_inpatient</th>\n",
              "      <th>time_in_hospital</th>\n",
              "      <th>diag_1_Genitourinary</th>\n",
              "      <th>num_medications</th>\n",
              "      <th>A1Cresult_Not Normal</th>\n",
              "      <th>diag_2_Others</th>\n",
              "      <th>number_diagnoses</th>\n",
              "      <th>diag_2_Genitourinary</th>\n",
              "      <th>number_outpatient</th>\n",
              "      <th>diag_3_Muscoloskeletal</th>\n",
              "      <th>diag_1_Muscoloskeletal</th>\n",
              "      <th>age_child</th>\n",
              "      <th>race_Other</th>\n",
              "      <th>race_Hispanic</th>\n",
              "      <th>max_glu_serum_None</th>\n",
              "      <th>diag_1_Digestive</th>\n",
              "    </tr>\n",
              "  </thead>\n",
              "  <tbody>\n",
              "    <tr>\n",
              "      <th>0</th>\n",
              "      <td>1</td>\n",
              "      <td>0</td>\n",
              "      <td>0</td>\n",
              "      <td>59</td>\n",
              "      <td>0</td>\n",
              "      <td>0</td>\n",
              "      <td>1</td>\n",
              "      <td>0</td>\n",
              "      <td>1</td>\n",
              "      <td>0</td>\n",
              "      <td>0</td>\n",
              "      <td>0</td>\n",
              "      <td>0</td>\n",
              "      <td>1</td>\n",
              "      <td>1</td>\n",
              "      <td>0</td>\n",
              "      <td>0</td>\n",
              "      <td>1</td>\n",
              "      <td>0</td>\n",
              "      <td>0</td>\n",
              "      <td>0</td>\n",
              "      <td>0</td>\n",
              "      <td>0</td>\n",
              "      <td>3</td>\n",
              "      <td>0</td>\n",
              "      <td>18</td>\n",
              "      <td>0</td>\n",
              "      <td>0</td>\n",
              "      <td>9</td>\n",
              "      <td>0</td>\n",
              "      <td>0</td>\n",
              "      <td>0</td>\n",
              "      <td>0</td>\n",
              "      <td>1</td>\n",
              "      <td>0</td>\n",
              "      <td>0</td>\n",
              "      <td>1</td>\n",
              "      <td>0</td>\n",
              "    </tr>\n",
              "    <tr>\n",
              "      <th>1</th>\n",
              "      <td>3</td>\n",
              "      <td>1</td>\n",
              "      <td>0</td>\n",
              "      <td>44</td>\n",
              "      <td>0</td>\n",
              "      <td>0</td>\n",
              "      <td>0</td>\n",
              "      <td>1</td>\n",
              "      <td>0</td>\n",
              "      <td>0</td>\n",
              "      <td>0</td>\n",
              "      <td>0</td>\n",
              "      <td>0</td>\n",
              "      <td>1</td>\n",
              "      <td>1</td>\n",
              "      <td>0</td>\n",
              "      <td>1</td>\n",
              "      <td>1</td>\n",
              "      <td>0</td>\n",
              "      <td>0</td>\n",
              "      <td>0</td>\n",
              "      <td>0</td>\n",
              "      <td>0</td>\n",
              "      <td>2</td>\n",
              "      <td>0</td>\n",
              "      <td>16</td>\n",
              "      <td>0</td>\n",
              "      <td>0</td>\n",
              "      <td>7</td>\n",
              "      <td>0</td>\n",
              "      <td>0</td>\n",
              "      <td>0</td>\n",
              "      <td>0</td>\n",
              "      <td>0</td>\n",
              "      <td>0</td>\n",
              "      <td>0</td>\n",
              "      <td>1</td>\n",
              "      <td>0</td>\n",
              "    </tr>\n",
              "    <tr>\n",
              "      <th>2</th>\n",
              "      <td>4</td>\n",
              "      <td>1</td>\n",
              "      <td>1</td>\n",
              "      <td>51</td>\n",
              "      <td>0</td>\n",
              "      <td>0</td>\n",
              "      <td>0</td>\n",
              "      <td>0</td>\n",
              "      <td>0</td>\n",
              "      <td>0</td>\n",
              "      <td>0</td>\n",
              "      <td>0</td>\n",
              "      <td>0</td>\n",
              "      <td>0</td>\n",
              "      <td>0</td>\n",
              "      <td>0</td>\n",
              "      <td>1</td>\n",
              "      <td>1</td>\n",
              "      <td>0</td>\n",
              "      <td>0</td>\n",
              "      <td>0</td>\n",
              "      <td>0</td>\n",
              "      <td>0</td>\n",
              "      <td>1</td>\n",
              "      <td>0</td>\n",
              "      <td>8</td>\n",
              "      <td>0</td>\n",
              "      <td>0</td>\n",
              "      <td>5</td>\n",
              "      <td>0</td>\n",
              "      <td>0</td>\n",
              "      <td>0</td>\n",
              "      <td>0</td>\n",
              "      <td>0</td>\n",
              "      <td>0</td>\n",
              "      <td>0</td>\n",
              "      <td>1</td>\n",
              "      <td>0</td>\n",
              "    </tr>\n",
              "    <tr>\n",
              "      <th>3</th>\n",
              "      <td>5</td>\n",
              "      <td>1</td>\n",
              "      <td>1</td>\n",
              "      <td>31</td>\n",
              "      <td>0</td>\n",
              "      <td>0</td>\n",
              "      <td>0</td>\n",
              "      <td>6</td>\n",
              "      <td>1</td>\n",
              "      <td>0</td>\n",
              "      <td>0</td>\n",
              "      <td>1</td>\n",
              "      <td>0</td>\n",
              "      <td>0</td>\n",
              "      <td>0</td>\n",
              "      <td>0</td>\n",
              "      <td>1</td>\n",
              "      <td>1</td>\n",
              "      <td>0</td>\n",
              "      <td>0</td>\n",
              "      <td>0</td>\n",
              "      <td>0</td>\n",
              "      <td>0</td>\n",
              "      <td>3</td>\n",
              "      <td>0</td>\n",
              "      <td>16</td>\n",
              "      <td>0</td>\n",
              "      <td>0</td>\n",
              "      <td>9</td>\n",
              "      <td>0</td>\n",
              "      <td>0</td>\n",
              "      <td>0</td>\n",
              "      <td>0</td>\n",
              "      <td>0</td>\n",
              "      <td>0</td>\n",
              "      <td>0</td>\n",
              "      <td>1</td>\n",
              "      <td>0</td>\n",
              "    </tr>\n",
              "    <tr>\n",
              "      <th>4</th>\n",
              "      <td>6</td>\n",
              "      <td>0</td>\n",
              "      <td>0</td>\n",
              "      <td>70</td>\n",
              "      <td>0</td>\n",
              "      <td>0</td>\n",
              "      <td>1</td>\n",
              "      <td>1</td>\n",
              "      <td>0</td>\n",
              "      <td>0</td>\n",
              "      <td>0</td>\n",
              "      <td>0</td>\n",
              "      <td>0</td>\n",
              "      <td>0</td>\n",
              "      <td>0</td>\n",
              "      <td>0</td>\n",
              "      <td>1</td>\n",
              "      <td>1</td>\n",
              "      <td>0</td>\n",
              "      <td>0</td>\n",
              "      <td>0</td>\n",
              "      <td>0</td>\n",
              "      <td>0</td>\n",
              "      <td>4</td>\n",
              "      <td>0</td>\n",
              "      <td>21</td>\n",
              "      <td>0</td>\n",
              "      <td>0</td>\n",
              "      <td>7</td>\n",
              "      <td>0</td>\n",
              "      <td>0</td>\n",
              "      <td>0</td>\n",
              "      <td>0</td>\n",
              "      <td>0</td>\n",
              "      <td>0</td>\n",
              "      <td>0</td>\n",
              "      <td>1</td>\n",
              "      <td>0</td>\n",
              "    </tr>\n",
              "  </tbody>\n",
              "</table>\n",
              "</div>"
            ],
            "text/plain": [
              "   Unnamed: 0  age_adult  diag_3_Diabetes  num_lab_procedures  \\\n",
              "0           1          0                0                  59   \n",
              "1           3          1                0                  44   \n",
              "2           4          1                1                  51   \n",
              "3           5          1                1                  31   \n",
              "4           6          0                0                  70   \n",
              "\n",
              "   number_emergency  diag_2_Respiratory  diag_3_Others  num_procedures  \\\n",
              "0                 0                   0              1               0   \n",
              "1                 0                   0              0               1   \n",
              "2                 0                   0              0               0   \n",
              "3                 0                   0              0               6   \n",
              "4                 0                   0              1               1   \n",
              "\n",
              "   readmitted_Yes  diag_3_Digestive  diag_3_Respiratory  change_No  \\\n",
              "0               1                 0                   0          0   \n",
              "1               0                 0                   0          0   \n",
              "2               0                 0                   0          0   \n",
              "3               1                 0                   0          1   \n",
              "4               0                 0                   0          0   \n",
              "\n",
              "   diag_1_Injury  diag_2_Diabetes  diag_1_Others  diag_2_Digestive  \\\n",
              "0              0                1              1                 0   \n",
              "1              0                1              1                 0   \n",
              "2              0                0              0                 0   \n",
              "3              0                0              0                 0   \n",
              "4              0                0              0                 0   \n",
              "\n",
              "   gender_Male  race_Caucasian  diag_3_Genitourinary  diag_1_Respiratory  \\\n",
              "0            0               1                     0                   0   \n",
              "1            1               1                     0                   0   \n",
              "2            1               1                     0                   0   \n",
              "3            1               1                     0                   0   \n",
              "4            1               1                     0                   0   \n",
              "\n",
              "   diag_1_Diabetes  A1Cresult_Norm  number_inpatient  time_in_hospital  \\\n",
              "0                0               0                 0                 3   \n",
              "1                0               0                 0                 2   \n",
              "2                0               0                 0                 1   \n",
              "3                0               0                 0                 3   \n",
              "4                0               0                 0                 4   \n",
              "\n",
              "   diag_1_Genitourinary  num_medications  A1Cresult_Not Normal  diag_2_Others  \\\n",
              "0                     0               18                     0              0   \n",
              "1                     0               16                     0              0   \n",
              "2                     0                8                     0              0   \n",
              "3                     0               16                     0              0   \n",
              "4                     0               21                     0              0   \n",
              "\n",
              "   number_diagnoses  diag_2_Genitourinary  number_outpatient  \\\n",
              "0                 9                     0                  0   \n",
              "1                 7                     0                  0   \n",
              "2                 5                     0                  0   \n",
              "3                 9                     0                  0   \n",
              "4                 7                     0                  0   \n",
              "\n",
              "   diag_3_Muscoloskeletal  diag_1_Muscoloskeletal  age_child  race_Other  \\\n",
              "0                       0                       0          1           0   \n",
              "1                       0                       0          0           0   \n",
              "2                       0                       0          0           0   \n",
              "3                       0                       0          0           0   \n",
              "4                       0                       0          0           0   \n",
              "\n",
              "   race_Hispanic  max_glu_serum_None  diag_1_Digestive  \n",
              "0              0                   1                 0  \n",
              "1              0                   1                 0  \n",
              "2              0                   1                 0  \n",
              "3              0                   1                 0  \n",
              "4              0                   1                 0  "
            ]
          },
          "metadata": {
            "tags": []
          },
          "execution_count": 7
        }
      ]
    },
    {
      "cell_type": "code",
      "metadata": {
        "id": "SW5I1yIy0CdG"
      },
      "source": [
        "x = x.drop('Unnamed: 0',axis=1)"
      ],
      "execution_count": null,
      "outputs": []
    },
    {
      "cell_type": "code",
      "metadata": {
        "id": "v_P-2pQ40Kpv",
        "outputId": "69611fb6-7fa9-4330-87bb-8f7e5afc882b",
        "colab": {
          "base_uri": "https://localhost:8080/",
          "height": 239
        }
      },
      "source": [
        "x.head()"
      ],
      "execution_count": null,
      "outputs": [
        {
          "output_type": "execute_result",
          "data": {
            "text/html": [
              "<div>\n",
              "<style scoped>\n",
              "    .dataframe tbody tr th:only-of-type {\n",
              "        vertical-align: middle;\n",
              "    }\n",
              "\n",
              "    .dataframe tbody tr th {\n",
              "        vertical-align: top;\n",
              "    }\n",
              "\n",
              "    .dataframe thead th {\n",
              "        text-align: right;\n",
              "    }\n",
              "</style>\n",
              "<table border=\"1\" class=\"dataframe\">\n",
              "  <thead>\n",
              "    <tr style=\"text-align: right;\">\n",
              "      <th></th>\n",
              "      <th>age_adult</th>\n",
              "      <th>diag_3_Diabetes</th>\n",
              "      <th>num_lab_procedures</th>\n",
              "      <th>number_emergency</th>\n",
              "      <th>diag_2_Respiratory</th>\n",
              "      <th>diag_3_Others</th>\n",
              "      <th>num_procedures</th>\n",
              "      <th>readmitted_Yes</th>\n",
              "      <th>diag_3_Digestive</th>\n",
              "      <th>diag_3_Respiratory</th>\n",
              "      <th>change_No</th>\n",
              "      <th>diag_1_Injury</th>\n",
              "      <th>diag_2_Diabetes</th>\n",
              "      <th>diag_1_Others</th>\n",
              "      <th>diag_2_Digestive</th>\n",
              "      <th>gender_Male</th>\n",
              "      <th>race_Caucasian</th>\n",
              "      <th>diag_3_Genitourinary</th>\n",
              "      <th>diag_1_Respiratory</th>\n",
              "      <th>diag_1_Diabetes</th>\n",
              "      <th>A1Cresult_Norm</th>\n",
              "      <th>number_inpatient</th>\n",
              "      <th>time_in_hospital</th>\n",
              "      <th>diag_1_Genitourinary</th>\n",
              "      <th>num_medications</th>\n",
              "      <th>A1Cresult_Not Normal</th>\n",
              "      <th>diag_2_Others</th>\n",
              "      <th>number_diagnoses</th>\n",
              "      <th>diag_2_Genitourinary</th>\n",
              "      <th>number_outpatient</th>\n",
              "      <th>diag_3_Muscoloskeletal</th>\n",
              "      <th>diag_1_Muscoloskeletal</th>\n",
              "      <th>age_child</th>\n",
              "      <th>race_Other</th>\n",
              "      <th>race_Hispanic</th>\n",
              "      <th>max_glu_serum_None</th>\n",
              "      <th>diag_1_Digestive</th>\n",
              "    </tr>\n",
              "  </thead>\n",
              "  <tbody>\n",
              "    <tr>\n",
              "      <th>0</th>\n",
              "      <td>0</td>\n",
              "      <td>0</td>\n",
              "      <td>59</td>\n",
              "      <td>0</td>\n",
              "      <td>0</td>\n",
              "      <td>1</td>\n",
              "      <td>0</td>\n",
              "      <td>1</td>\n",
              "      <td>0</td>\n",
              "      <td>0</td>\n",
              "      <td>0</td>\n",
              "      <td>0</td>\n",
              "      <td>1</td>\n",
              "      <td>1</td>\n",
              "      <td>0</td>\n",
              "      <td>0</td>\n",
              "      <td>1</td>\n",
              "      <td>0</td>\n",
              "      <td>0</td>\n",
              "      <td>0</td>\n",
              "      <td>0</td>\n",
              "      <td>0</td>\n",
              "      <td>3</td>\n",
              "      <td>0</td>\n",
              "      <td>18</td>\n",
              "      <td>0</td>\n",
              "      <td>0</td>\n",
              "      <td>9</td>\n",
              "      <td>0</td>\n",
              "      <td>0</td>\n",
              "      <td>0</td>\n",
              "      <td>0</td>\n",
              "      <td>1</td>\n",
              "      <td>0</td>\n",
              "      <td>0</td>\n",
              "      <td>1</td>\n",
              "      <td>0</td>\n",
              "    </tr>\n",
              "    <tr>\n",
              "      <th>1</th>\n",
              "      <td>1</td>\n",
              "      <td>0</td>\n",
              "      <td>44</td>\n",
              "      <td>0</td>\n",
              "      <td>0</td>\n",
              "      <td>0</td>\n",
              "      <td>1</td>\n",
              "      <td>0</td>\n",
              "      <td>0</td>\n",
              "      <td>0</td>\n",
              "      <td>0</td>\n",
              "      <td>0</td>\n",
              "      <td>1</td>\n",
              "      <td>1</td>\n",
              "      <td>0</td>\n",
              "      <td>1</td>\n",
              "      <td>1</td>\n",
              "      <td>0</td>\n",
              "      <td>0</td>\n",
              "      <td>0</td>\n",
              "      <td>0</td>\n",
              "      <td>0</td>\n",
              "      <td>2</td>\n",
              "      <td>0</td>\n",
              "      <td>16</td>\n",
              "      <td>0</td>\n",
              "      <td>0</td>\n",
              "      <td>7</td>\n",
              "      <td>0</td>\n",
              "      <td>0</td>\n",
              "      <td>0</td>\n",
              "      <td>0</td>\n",
              "      <td>0</td>\n",
              "      <td>0</td>\n",
              "      <td>0</td>\n",
              "      <td>1</td>\n",
              "      <td>0</td>\n",
              "    </tr>\n",
              "    <tr>\n",
              "      <th>2</th>\n",
              "      <td>1</td>\n",
              "      <td>1</td>\n",
              "      <td>51</td>\n",
              "      <td>0</td>\n",
              "      <td>0</td>\n",
              "      <td>0</td>\n",
              "      <td>0</td>\n",
              "      <td>0</td>\n",
              "      <td>0</td>\n",
              "      <td>0</td>\n",
              "      <td>0</td>\n",
              "      <td>0</td>\n",
              "      <td>0</td>\n",
              "      <td>0</td>\n",
              "      <td>0</td>\n",
              "      <td>1</td>\n",
              "      <td>1</td>\n",
              "      <td>0</td>\n",
              "      <td>0</td>\n",
              "      <td>0</td>\n",
              "      <td>0</td>\n",
              "      <td>0</td>\n",
              "      <td>1</td>\n",
              "      <td>0</td>\n",
              "      <td>8</td>\n",
              "      <td>0</td>\n",
              "      <td>0</td>\n",
              "      <td>5</td>\n",
              "      <td>0</td>\n",
              "      <td>0</td>\n",
              "      <td>0</td>\n",
              "      <td>0</td>\n",
              "      <td>0</td>\n",
              "      <td>0</td>\n",
              "      <td>0</td>\n",
              "      <td>1</td>\n",
              "      <td>0</td>\n",
              "    </tr>\n",
              "    <tr>\n",
              "      <th>3</th>\n",
              "      <td>1</td>\n",
              "      <td>1</td>\n",
              "      <td>31</td>\n",
              "      <td>0</td>\n",
              "      <td>0</td>\n",
              "      <td>0</td>\n",
              "      <td>6</td>\n",
              "      <td>1</td>\n",
              "      <td>0</td>\n",
              "      <td>0</td>\n",
              "      <td>1</td>\n",
              "      <td>0</td>\n",
              "      <td>0</td>\n",
              "      <td>0</td>\n",
              "      <td>0</td>\n",
              "      <td>1</td>\n",
              "      <td>1</td>\n",
              "      <td>0</td>\n",
              "      <td>0</td>\n",
              "      <td>0</td>\n",
              "      <td>0</td>\n",
              "      <td>0</td>\n",
              "      <td>3</td>\n",
              "      <td>0</td>\n",
              "      <td>16</td>\n",
              "      <td>0</td>\n",
              "      <td>0</td>\n",
              "      <td>9</td>\n",
              "      <td>0</td>\n",
              "      <td>0</td>\n",
              "      <td>0</td>\n",
              "      <td>0</td>\n",
              "      <td>0</td>\n",
              "      <td>0</td>\n",
              "      <td>0</td>\n",
              "      <td>1</td>\n",
              "      <td>0</td>\n",
              "    </tr>\n",
              "    <tr>\n",
              "      <th>4</th>\n",
              "      <td>0</td>\n",
              "      <td>0</td>\n",
              "      <td>70</td>\n",
              "      <td>0</td>\n",
              "      <td>0</td>\n",
              "      <td>1</td>\n",
              "      <td>1</td>\n",
              "      <td>0</td>\n",
              "      <td>0</td>\n",
              "      <td>0</td>\n",
              "      <td>0</td>\n",
              "      <td>0</td>\n",
              "      <td>0</td>\n",
              "      <td>0</td>\n",
              "      <td>0</td>\n",
              "      <td>1</td>\n",
              "      <td>1</td>\n",
              "      <td>0</td>\n",
              "      <td>0</td>\n",
              "      <td>0</td>\n",
              "      <td>0</td>\n",
              "      <td>0</td>\n",
              "      <td>4</td>\n",
              "      <td>0</td>\n",
              "      <td>21</td>\n",
              "      <td>0</td>\n",
              "      <td>0</td>\n",
              "      <td>7</td>\n",
              "      <td>0</td>\n",
              "      <td>0</td>\n",
              "      <td>0</td>\n",
              "      <td>0</td>\n",
              "      <td>0</td>\n",
              "      <td>0</td>\n",
              "      <td>0</td>\n",
              "      <td>1</td>\n",
              "      <td>0</td>\n",
              "    </tr>\n",
              "  </tbody>\n",
              "</table>\n",
              "</div>"
            ],
            "text/plain": [
              "   age_adult  diag_3_Diabetes  num_lab_procedures  number_emergency  \\\n",
              "0          0                0                  59                 0   \n",
              "1          1                0                  44                 0   \n",
              "2          1                1                  51                 0   \n",
              "3          1                1                  31                 0   \n",
              "4          0                0                  70                 0   \n",
              "\n",
              "   diag_2_Respiratory  diag_3_Others  num_procedures  readmitted_Yes  \\\n",
              "0                   0              1               0               1   \n",
              "1                   0              0               1               0   \n",
              "2                   0              0               0               0   \n",
              "3                   0              0               6               1   \n",
              "4                   0              1               1               0   \n",
              "\n",
              "   diag_3_Digestive  diag_3_Respiratory  change_No  diag_1_Injury  \\\n",
              "0                 0                   0          0              0   \n",
              "1                 0                   0          0              0   \n",
              "2                 0                   0          0              0   \n",
              "3                 0                   0          1              0   \n",
              "4                 0                   0          0              0   \n",
              "\n",
              "   diag_2_Diabetes  diag_1_Others  diag_2_Digestive  gender_Male  \\\n",
              "0                1              1                 0            0   \n",
              "1                1              1                 0            1   \n",
              "2                0              0                 0            1   \n",
              "3                0              0                 0            1   \n",
              "4                0              0                 0            1   \n",
              "\n",
              "   race_Caucasian  diag_3_Genitourinary  diag_1_Respiratory  diag_1_Diabetes  \\\n",
              "0               1                     0                   0                0   \n",
              "1               1                     0                   0                0   \n",
              "2               1                     0                   0                0   \n",
              "3               1                     0                   0                0   \n",
              "4               1                     0                   0                0   \n",
              "\n",
              "   A1Cresult_Norm  number_inpatient  time_in_hospital  diag_1_Genitourinary  \\\n",
              "0               0                 0                 3                     0   \n",
              "1               0                 0                 2                     0   \n",
              "2               0                 0                 1                     0   \n",
              "3               0                 0                 3                     0   \n",
              "4               0                 0                 4                     0   \n",
              "\n",
              "   num_medications  A1Cresult_Not Normal  diag_2_Others  number_diagnoses  \\\n",
              "0               18                     0              0                 9   \n",
              "1               16                     0              0                 7   \n",
              "2                8                     0              0                 5   \n",
              "3               16                     0              0                 9   \n",
              "4               21                     0              0                 7   \n",
              "\n",
              "   diag_2_Genitourinary  number_outpatient  diag_3_Muscoloskeletal  \\\n",
              "0                     0                  0                       0   \n",
              "1                     0                  0                       0   \n",
              "2                     0                  0                       0   \n",
              "3                     0                  0                       0   \n",
              "4                     0                  0                       0   \n",
              "\n",
              "   diag_1_Muscoloskeletal  age_child  race_Other  race_Hispanic  \\\n",
              "0                       0          1           0              0   \n",
              "1                       0          0           0              0   \n",
              "2                       0          0           0              0   \n",
              "3                       0          0           0              0   \n",
              "4                       0          0           0              0   \n",
              "\n",
              "   max_glu_serum_None  diag_1_Digestive  \n",
              "0                   1                 0  \n",
              "1                   1                 0  \n",
              "2                   1                 0  \n",
              "3                   1                 0  \n",
              "4                   1                 0  "
            ]
          },
          "metadata": {
            "tags": []
          },
          "execution_count": 9
        }
      ]
    },
    {
      "cell_type": "code",
      "metadata": {
        "id": "cnYVVXUqtTXC",
        "outputId": "2c671020-47ff-4f1a-b4c2-6cbb5fc3f6c9",
        "colab": {
          "base_uri": "https://localhost:8080/"
        }
      },
      "source": [
        "y.columns"
      ],
      "execution_count": null,
      "outputs": [
        {
          "output_type": "execute_result",
          "data": {
            "text/plain": [
              "Index(['Unnamed: 0', 'Target'], dtype='object')"
            ]
          },
          "metadata": {
            "tags": []
          },
          "execution_count": 10
        }
      ]
    },
    {
      "cell_type": "code",
      "metadata": {
        "id": "0JWkA__os6pR",
        "outputId": "f82c5fe4-db6d-41ec-90e8-1f8b8c887b2f",
        "colab": {
          "base_uri": "https://localhost:8080/",
          "height": 141
        }
      },
      "source": [
        "y = y.drop('Unnamed: 0',axis=1)\n",
        "y[:3]"
      ],
      "execution_count": null,
      "outputs": [
        {
          "output_type": "execute_result",
          "data": {
            "text/html": [
              "<div>\n",
              "<style scoped>\n",
              "    .dataframe tbody tr th:only-of-type {\n",
              "        vertical-align: middle;\n",
              "    }\n",
              "\n",
              "    .dataframe tbody tr th {\n",
              "        vertical-align: top;\n",
              "    }\n",
              "\n",
              "    .dataframe thead th {\n",
              "        text-align: right;\n",
              "    }\n",
              "</style>\n",
              "<table border=\"1\" class=\"dataframe\">\n",
              "  <thead>\n",
              "    <tr style=\"text-align: right;\">\n",
              "      <th></th>\n",
              "      <th>Target</th>\n",
              "    </tr>\n",
              "  </thead>\n",
              "  <tbody>\n",
              "    <tr>\n",
              "      <th>0</th>\n",
              "      <td>1</td>\n",
              "    </tr>\n",
              "    <tr>\n",
              "      <th>1</th>\n",
              "      <td>1</td>\n",
              "    </tr>\n",
              "    <tr>\n",
              "      <th>2</th>\n",
              "      <td>0</td>\n",
              "    </tr>\n",
              "  </tbody>\n",
              "</table>\n",
              "</div>"
            ],
            "text/plain": [
              "   Target\n",
              "0       1\n",
              "1       1\n",
              "2       0"
            ]
          },
          "metadata": {
            "tags": []
          },
          "execution_count": 11
        }
      ]
    },
    {
      "cell_type": "code",
      "metadata": {
        "id": "SA_Kn8xQAAfU"
      },
      "source": [
        "y = y['Target']"
      ],
      "execution_count": null,
      "outputs": []
    },
    {
      "cell_type": "code",
      "metadata": {
        "id": "YFmBaEEBs9B6"
      },
      "source": [
        "from sklearn.model_selection import  train_test_split\n",
        "\n",
        "Xtrain,Xtest,ytrain,ytest=train_test_split(x,y,test_size=0.3,random_state=48,stratify=y)"
      ],
      "execution_count": null,
      "outputs": []
    },
    {
      "cell_type": "code",
      "metadata": {
        "id": "zby6GFOl80AU",
        "outputId": "1f910633-bf43-46b0-fde5-f8d4e2662f99",
        "colab": {
          "base_uri": "https://localhost:8080/"
        }
      },
      "source": [
        "Xtrain.shape,Xtest.shape,ytrain.shape,ytest.shape"
      ],
      "execution_count": null,
      "outputs": [
        {
          "output_type": "execute_result",
          "data": {
            "text/plain": [
              "((36477, 37), (15633, 37), (36477,), (15633,))"
            ]
          },
          "metadata": {
            "tags": []
          },
          "execution_count": 14
        }
      ]
    },
    {
      "cell_type": "code",
      "metadata": {
        "id": "ufHoh79e5mPW",
        "outputId": "b13d9fba-eb90-45af-f743-711c15350f84",
        "colab": {
          "base_uri": "https://localhost:8080/",
          "height": 239
        }
      },
      "source": [
        "from sklearn.preprocessing import  StandardScaler\n",
        "st = StandardScaler()\n",
        "Xtrain_t = st.fit_transform(Xtrain)\n",
        "Xtrain_t=pd.DataFrame(Xtrain_t,columns=x.columns)\n",
        "Xtrain_t.head()"
      ],
      "execution_count": null,
      "outputs": [
        {
          "output_type": "execute_result",
          "data": {
            "text/html": [
              "<div>\n",
              "<style scoped>\n",
              "    .dataframe tbody tr th:only-of-type {\n",
              "        vertical-align: middle;\n",
              "    }\n",
              "\n",
              "    .dataframe tbody tr th {\n",
              "        vertical-align: top;\n",
              "    }\n",
              "\n",
              "    .dataframe thead th {\n",
              "        text-align: right;\n",
              "    }\n",
              "</style>\n",
              "<table border=\"1\" class=\"dataframe\">\n",
              "  <thead>\n",
              "    <tr style=\"text-align: right;\">\n",
              "      <th></th>\n",
              "      <th>age_adult</th>\n",
              "      <th>diag_3_Diabetes</th>\n",
              "      <th>num_lab_procedures</th>\n",
              "      <th>number_emergency</th>\n",
              "      <th>diag_2_Respiratory</th>\n",
              "      <th>diag_3_Others</th>\n",
              "      <th>num_procedures</th>\n",
              "      <th>readmitted_Yes</th>\n",
              "      <th>diag_3_Digestive</th>\n",
              "      <th>diag_3_Respiratory</th>\n",
              "      <th>change_No</th>\n",
              "      <th>diag_1_Injury</th>\n",
              "      <th>diag_2_Diabetes</th>\n",
              "      <th>diag_1_Others</th>\n",
              "      <th>diag_2_Digestive</th>\n",
              "      <th>gender_Male</th>\n",
              "      <th>race_Caucasian</th>\n",
              "      <th>diag_3_Genitourinary</th>\n",
              "      <th>diag_1_Respiratory</th>\n",
              "      <th>diag_1_Diabetes</th>\n",
              "      <th>A1Cresult_Norm</th>\n",
              "      <th>number_inpatient</th>\n",
              "      <th>time_in_hospital</th>\n",
              "      <th>diag_1_Genitourinary</th>\n",
              "      <th>num_medications</th>\n",
              "      <th>A1Cresult_Not Normal</th>\n",
              "      <th>diag_2_Others</th>\n",
              "      <th>number_diagnoses</th>\n",
              "      <th>diag_2_Genitourinary</th>\n",
              "      <th>number_outpatient</th>\n",
              "      <th>diag_3_Muscoloskeletal</th>\n",
              "      <th>diag_1_Muscoloskeletal</th>\n",
              "      <th>age_child</th>\n",
              "      <th>race_Other</th>\n",
              "      <th>race_Hispanic</th>\n",
              "      <th>max_glu_serum_None</th>\n",
              "      <th>diag_1_Digestive</th>\n",
              "    </tr>\n",
              "  </thead>\n",
              "  <tbody>\n",
              "    <tr>\n",
              "      <th>0</th>\n",
              "      <td>-0.715235</td>\n",
              "      <td>-0.444187</td>\n",
              "      <td>0.959997</td>\n",
              "      <td>-0.211824</td>\n",
              "      <td>-0.357808</td>\n",
              "      <td>-0.662350</td>\n",
              "      <td>0.352128</td>\n",
              "      <td>1.022823</td>\n",
              "      <td>-0.200447</td>\n",
              "      <td>-0.288958</td>\n",
              "      <td>-0.652215</td>\n",
              "      <td>-0.275483</td>\n",
              "      <td>-0.38435</td>\n",
              "      <td>-0.459758</td>\n",
              "      <td>-0.205136</td>\n",
              "      <td>-0.923090</td>\n",
              "      <td>0.585191</td>\n",
              "      <td>3.596270</td>\n",
              "      <td>-0.412762</td>\n",
              "      <td>-0.354681</td>\n",
              "      <td>-0.231076</td>\n",
              "      <td>-0.529738</td>\n",
              "      <td>0.094948</td>\n",
              "      <td>4.285028</td>\n",
              "      <td>0.146905</td>\n",
              "      <td>-0.414898</td>\n",
              "      <td>1.643356</td>\n",
              "      <td>0.746706</td>\n",
              "      <td>-0.312908</td>\n",
              "      <td>-0.282292</td>\n",
              "      <td>-0.139469</td>\n",
              "      <td>-0.200373</td>\n",
              "      <td>-0.088739</td>\n",
              "      <td>-0.131063</td>\n",
              "      <td>-0.14538</td>\n",
              "      <td>0.23193</td>\n",
              "      <td>-0.312009</td>\n",
              "    </tr>\n",
              "    <tr>\n",
              "      <th>1</th>\n",
              "      <td>-0.715235</td>\n",
              "      <td>-0.444187</td>\n",
              "      <td>0.909752</td>\n",
              "      <td>-0.211824</td>\n",
              "      <td>-0.357808</td>\n",
              "      <td>-0.662350</td>\n",
              "      <td>-0.792715</td>\n",
              "      <td>1.022823</td>\n",
              "      <td>-0.200447</td>\n",
              "      <td>-0.288958</td>\n",
              "      <td>-0.652215</td>\n",
              "      <td>3.629991</td>\n",
              "      <td>-0.38435</td>\n",
              "      <td>-0.459758</td>\n",
              "      <td>-0.205136</td>\n",
              "      <td>-0.923090</td>\n",
              "      <td>0.585191</td>\n",
              "      <td>-0.278066</td>\n",
              "      <td>-0.412762</td>\n",
              "      <td>-0.354681</td>\n",
              "      <td>-0.231076</td>\n",
              "      <td>-0.529738</td>\n",
              "      <td>0.094948</td>\n",
              "      <td>-0.233371</td>\n",
              "      <td>0.030159</td>\n",
              "      <td>-0.414898</td>\n",
              "      <td>-0.608511</td>\n",
              "      <td>0.746706</td>\n",
              "      <td>-0.312908</td>\n",
              "      <td>-0.282292</td>\n",
              "      <td>-0.139469</td>\n",
              "      <td>-0.200373</td>\n",
              "      <td>-0.088739</td>\n",
              "      <td>-0.131063</td>\n",
              "      <td>-0.14538</td>\n",
              "      <td>0.23193</td>\n",
              "      <td>-0.312009</td>\n",
              "    </tr>\n",
              "    <tr>\n",
              "      <th>2</th>\n",
              "      <td>-0.715235</td>\n",
              "      <td>-0.444187</td>\n",
              "      <td>1.562941</td>\n",
              "      <td>-0.211824</td>\n",
              "      <td>-0.357808</td>\n",
              "      <td>1.509775</td>\n",
              "      <td>0.924550</td>\n",
              "      <td>1.022823</td>\n",
              "      <td>-0.200447</td>\n",
              "      <td>-0.288958</td>\n",
              "      <td>-0.652215</td>\n",
              "      <td>-0.275483</td>\n",
              "      <td>-0.38435</td>\n",
              "      <td>-0.459758</td>\n",
              "      <td>-0.205136</td>\n",
              "      <td>1.083318</td>\n",
              "      <td>0.585191</td>\n",
              "      <td>-0.278066</td>\n",
              "      <td>-0.412762</td>\n",
              "      <td>-0.354681</td>\n",
              "      <td>-0.231076</td>\n",
              "      <td>-0.529738</td>\n",
              "      <td>1.400045</td>\n",
              "      <td>4.285028</td>\n",
              "      <td>0.730636</td>\n",
              "      <td>-0.414898</td>\n",
              "      <td>-0.608511</td>\n",
              "      <td>0.746706</td>\n",
              "      <td>-0.312908</td>\n",
              "      <td>0.463284</td>\n",
              "      <td>-0.139469</td>\n",
              "      <td>-0.200373</td>\n",
              "      <td>-0.088739</td>\n",
              "      <td>-0.131063</td>\n",
              "      <td>-0.14538</td>\n",
              "      <td>0.23193</td>\n",
              "      <td>-0.312009</td>\n",
              "    </tr>\n",
              "    <tr>\n",
              "      <th>3</th>\n",
              "      <td>1.398141</td>\n",
              "      <td>-0.444187</td>\n",
              "      <td>-0.999570</td>\n",
              "      <td>0.673554</td>\n",
              "      <td>-0.357808</td>\n",
              "      <td>-0.662350</td>\n",
              "      <td>-0.792715</td>\n",
              "      <td>1.022823</td>\n",
              "      <td>-0.200447</td>\n",
              "      <td>-0.288958</td>\n",
              "      <td>-0.652215</td>\n",
              "      <td>-0.275483</td>\n",
              "      <td>-0.38435</td>\n",
              "      <td>2.175057</td>\n",
              "      <td>-0.205136</td>\n",
              "      <td>-0.923090</td>\n",
              "      <td>0.585191</td>\n",
              "      <td>-0.278066</td>\n",
              "      <td>-0.412762</td>\n",
              "      <td>-0.354681</td>\n",
              "      <td>-0.231076</td>\n",
              "      <td>0.923412</td>\n",
              "      <td>-0.557601</td>\n",
              "      <td>-0.233371</td>\n",
              "      <td>-0.787065</td>\n",
              "      <td>-0.414898</td>\n",
              "      <td>-0.608511</td>\n",
              "      <td>0.746706</td>\n",
              "      <td>-0.312908</td>\n",
              "      <td>0.463284</td>\n",
              "      <td>-0.139469</td>\n",
              "      <td>-0.200373</td>\n",
              "      <td>-0.088739</td>\n",
              "      <td>-0.131063</td>\n",
              "      <td>-0.14538</td>\n",
              "      <td>0.23193</td>\n",
              "      <td>-0.312009</td>\n",
              "    </tr>\n",
              "    <tr>\n",
              "      <th>4</th>\n",
              "      <td>-0.715235</td>\n",
              "      <td>-0.444187</td>\n",
              "      <td>1.914659</td>\n",
              "      <td>-0.211824</td>\n",
              "      <td>-0.357808</td>\n",
              "      <td>-0.662350</td>\n",
              "      <td>-0.792715</td>\n",
              "      <td>1.022823</td>\n",
              "      <td>-0.200447</td>\n",
              "      <td>-0.288958</td>\n",
              "      <td>-0.652215</td>\n",
              "      <td>-0.275483</td>\n",
              "      <td>-0.38435</td>\n",
              "      <td>-0.459758</td>\n",
              "      <td>-0.205136</td>\n",
              "      <td>1.083318</td>\n",
              "      <td>0.585191</td>\n",
              "      <td>-0.278066</td>\n",
              "      <td>-0.412762</td>\n",
              "      <td>-0.354681</td>\n",
              "      <td>-0.231076</td>\n",
              "      <td>-0.529738</td>\n",
              "      <td>1.073771</td>\n",
              "      <td>-0.233371</td>\n",
              "      <td>0.497144</td>\n",
              "      <td>2.410233</td>\n",
              "      <td>-0.608511</td>\n",
              "      <td>0.746706</td>\n",
              "      <td>-0.312908</td>\n",
              "      <td>1.954437</td>\n",
              "      <td>-0.139469</td>\n",
              "      <td>4.990687</td>\n",
              "      <td>-0.088739</td>\n",
              "      <td>-0.131063</td>\n",
              "      <td>-0.14538</td>\n",
              "      <td>0.23193</td>\n",
              "      <td>-0.312009</td>\n",
              "    </tr>\n",
              "  </tbody>\n",
              "</table>\n",
              "</div>"
            ],
            "text/plain": [
              "   age_adult  diag_3_Diabetes  num_lab_procedures  number_emergency  \\\n",
              "0  -0.715235        -0.444187            0.959997         -0.211824   \n",
              "1  -0.715235        -0.444187            0.909752         -0.211824   \n",
              "2  -0.715235        -0.444187            1.562941         -0.211824   \n",
              "3   1.398141        -0.444187           -0.999570          0.673554   \n",
              "4  -0.715235        -0.444187            1.914659         -0.211824   \n",
              "\n",
              "   diag_2_Respiratory  diag_3_Others  num_procedures  readmitted_Yes  \\\n",
              "0           -0.357808      -0.662350        0.352128        1.022823   \n",
              "1           -0.357808      -0.662350       -0.792715        1.022823   \n",
              "2           -0.357808       1.509775        0.924550        1.022823   \n",
              "3           -0.357808      -0.662350       -0.792715        1.022823   \n",
              "4           -0.357808      -0.662350       -0.792715        1.022823   \n",
              "\n",
              "   diag_3_Digestive  diag_3_Respiratory  change_No  diag_1_Injury  \\\n",
              "0         -0.200447           -0.288958  -0.652215      -0.275483   \n",
              "1         -0.200447           -0.288958  -0.652215       3.629991   \n",
              "2         -0.200447           -0.288958  -0.652215      -0.275483   \n",
              "3         -0.200447           -0.288958  -0.652215      -0.275483   \n",
              "4         -0.200447           -0.288958  -0.652215      -0.275483   \n",
              "\n",
              "   diag_2_Diabetes  diag_1_Others  diag_2_Digestive  gender_Male  \\\n",
              "0         -0.38435      -0.459758         -0.205136    -0.923090   \n",
              "1         -0.38435      -0.459758         -0.205136    -0.923090   \n",
              "2         -0.38435      -0.459758         -0.205136     1.083318   \n",
              "3         -0.38435       2.175057         -0.205136    -0.923090   \n",
              "4         -0.38435      -0.459758         -0.205136     1.083318   \n",
              "\n",
              "   race_Caucasian  diag_3_Genitourinary  diag_1_Respiratory  diag_1_Diabetes  \\\n",
              "0        0.585191              3.596270           -0.412762        -0.354681   \n",
              "1        0.585191             -0.278066           -0.412762        -0.354681   \n",
              "2        0.585191             -0.278066           -0.412762        -0.354681   \n",
              "3        0.585191             -0.278066           -0.412762        -0.354681   \n",
              "4        0.585191             -0.278066           -0.412762        -0.354681   \n",
              "\n",
              "   A1Cresult_Norm  number_inpatient  time_in_hospital  diag_1_Genitourinary  \\\n",
              "0       -0.231076         -0.529738          0.094948              4.285028   \n",
              "1       -0.231076         -0.529738          0.094948             -0.233371   \n",
              "2       -0.231076         -0.529738          1.400045              4.285028   \n",
              "3       -0.231076          0.923412         -0.557601             -0.233371   \n",
              "4       -0.231076         -0.529738          1.073771             -0.233371   \n",
              "\n",
              "   num_medications  A1Cresult_Not Normal  diag_2_Others  number_diagnoses  \\\n",
              "0         0.146905             -0.414898       1.643356          0.746706   \n",
              "1         0.030159             -0.414898      -0.608511          0.746706   \n",
              "2         0.730636             -0.414898      -0.608511          0.746706   \n",
              "3        -0.787065             -0.414898      -0.608511          0.746706   \n",
              "4         0.497144              2.410233      -0.608511          0.746706   \n",
              "\n",
              "   diag_2_Genitourinary  number_outpatient  diag_3_Muscoloskeletal  \\\n",
              "0             -0.312908          -0.282292               -0.139469   \n",
              "1             -0.312908          -0.282292               -0.139469   \n",
              "2             -0.312908           0.463284               -0.139469   \n",
              "3             -0.312908           0.463284               -0.139469   \n",
              "4             -0.312908           1.954437               -0.139469   \n",
              "\n",
              "   diag_1_Muscoloskeletal  age_child  race_Other  race_Hispanic  \\\n",
              "0               -0.200373  -0.088739   -0.131063       -0.14538   \n",
              "1               -0.200373  -0.088739   -0.131063       -0.14538   \n",
              "2               -0.200373  -0.088739   -0.131063       -0.14538   \n",
              "3               -0.200373  -0.088739   -0.131063       -0.14538   \n",
              "4                4.990687  -0.088739   -0.131063       -0.14538   \n",
              "\n",
              "   max_glu_serum_None  diag_1_Digestive  \n",
              "0             0.23193         -0.312009  \n",
              "1             0.23193         -0.312009  \n",
              "2             0.23193         -0.312009  \n",
              "3             0.23193         -0.312009  \n",
              "4             0.23193         -0.312009  "
            ]
          },
          "metadata": {
            "tags": []
          },
          "execution_count": 15
        }
      ]
    },
    {
      "cell_type": "code",
      "metadata": {
        "id": "orKDLlrz6d-9",
        "outputId": "9e80f41e-e3c4-496c-f2aa-7c90df8366b7",
        "colab": {
          "base_uri": "https://localhost:8080/",
          "height": 239
        }
      },
      "source": [
        "Xtest_t = st.transform(Xtest)\n",
        "Xtest_t=pd.DataFrame(Xtest_t,columns=x.columns)\n",
        "Xtest_t.head()"
      ],
      "execution_count": null,
      "outputs": [
        {
          "output_type": "execute_result",
          "data": {
            "text/html": [
              "<div>\n",
              "<style scoped>\n",
              "    .dataframe tbody tr th:only-of-type {\n",
              "        vertical-align: middle;\n",
              "    }\n",
              "\n",
              "    .dataframe tbody tr th {\n",
              "        vertical-align: top;\n",
              "    }\n",
              "\n",
              "    .dataframe thead th {\n",
              "        text-align: right;\n",
              "    }\n",
              "</style>\n",
              "<table border=\"1\" class=\"dataframe\">\n",
              "  <thead>\n",
              "    <tr style=\"text-align: right;\">\n",
              "      <th></th>\n",
              "      <th>age_adult</th>\n",
              "      <th>diag_3_Diabetes</th>\n",
              "      <th>num_lab_procedures</th>\n",
              "      <th>number_emergency</th>\n",
              "      <th>diag_2_Respiratory</th>\n",
              "      <th>diag_3_Others</th>\n",
              "      <th>num_procedures</th>\n",
              "      <th>readmitted_Yes</th>\n",
              "      <th>diag_3_Digestive</th>\n",
              "      <th>diag_3_Respiratory</th>\n",
              "      <th>change_No</th>\n",
              "      <th>diag_1_Injury</th>\n",
              "      <th>diag_2_Diabetes</th>\n",
              "      <th>diag_1_Others</th>\n",
              "      <th>diag_2_Digestive</th>\n",
              "      <th>gender_Male</th>\n",
              "      <th>race_Caucasian</th>\n",
              "      <th>diag_3_Genitourinary</th>\n",
              "      <th>diag_1_Respiratory</th>\n",
              "      <th>diag_1_Diabetes</th>\n",
              "      <th>A1Cresult_Norm</th>\n",
              "      <th>number_inpatient</th>\n",
              "      <th>time_in_hospital</th>\n",
              "      <th>diag_1_Genitourinary</th>\n",
              "      <th>num_medications</th>\n",
              "      <th>A1Cresult_Not Normal</th>\n",
              "      <th>diag_2_Others</th>\n",
              "      <th>number_diagnoses</th>\n",
              "      <th>diag_2_Genitourinary</th>\n",
              "      <th>number_outpatient</th>\n",
              "      <th>diag_3_Muscoloskeletal</th>\n",
              "      <th>diag_1_Muscoloskeletal</th>\n",
              "      <th>age_child</th>\n",
              "      <th>race_Other</th>\n",
              "      <th>race_Hispanic</th>\n",
              "      <th>max_glu_serum_None</th>\n",
              "      <th>diag_1_Digestive</th>\n",
              "    </tr>\n",
              "  </thead>\n",
              "  <tbody>\n",
              "    <tr>\n",
              "      <th>0</th>\n",
              "      <td>-0.715235</td>\n",
              "      <td>-0.444187</td>\n",
              "      <td>0.708771</td>\n",
              "      <td>-0.211824</td>\n",
              "      <td>-0.357808</td>\n",
              "      <td>-0.662350</td>\n",
              "      <td>2.069393</td>\n",
              "      <td>-0.977687</td>\n",
              "      <td>-0.200447</td>\n",
              "      <td>-0.288958</td>\n",
              "      <td>-0.652215</td>\n",
              "      <td>-0.275483</td>\n",
              "      <td>2.601793</td>\n",
              "      <td>-0.459758</td>\n",
              "      <td>-0.205136</td>\n",
              "      <td>1.083318</td>\n",
              "      <td>0.585191</td>\n",
              "      <td>3.596270</td>\n",
              "      <td>-0.412762</td>\n",
              "      <td>-0.354681</td>\n",
              "      <td>-0.231076</td>\n",
              "      <td>-0.529738</td>\n",
              "      <td>0.094948</td>\n",
              "      <td>-0.233371</td>\n",
              "      <td>-0.203334</td>\n",
              "      <td>-0.414898</td>\n",
              "      <td>-0.608511</td>\n",
              "      <td>0.746706</td>\n",
              "      <td>-0.312908</td>\n",
              "      <td>-0.282292</td>\n",
              "      <td>-0.139469</td>\n",
              "      <td>-0.200373</td>\n",
              "      <td>-0.088739</td>\n",
              "      <td>-0.131063</td>\n",
              "      <td>-0.14538</td>\n",
              "      <td>0.23193</td>\n",
              "      <td>-0.312009</td>\n",
              "    </tr>\n",
              "    <tr>\n",
              "      <th>1</th>\n",
              "      <td>1.398141</td>\n",
              "      <td>-0.444187</td>\n",
              "      <td>-2.205458</td>\n",
              "      <td>-0.211824</td>\n",
              "      <td>-0.357808</td>\n",
              "      <td>1.509775</td>\n",
              "      <td>0.924550</td>\n",
              "      <td>-0.977687</td>\n",
              "      <td>-0.200447</td>\n",
              "      <td>-0.288958</td>\n",
              "      <td>-0.652215</td>\n",
              "      <td>-0.275483</td>\n",
              "      <td>2.601793</td>\n",
              "      <td>2.175057</td>\n",
              "      <td>-0.205136</td>\n",
              "      <td>-0.923090</td>\n",
              "      <td>0.585191</td>\n",
              "      <td>-0.278066</td>\n",
              "      <td>-0.412762</td>\n",
              "      <td>-0.354681</td>\n",
              "      <td>-0.231076</td>\n",
              "      <td>-0.529738</td>\n",
              "      <td>-0.557601</td>\n",
              "      <td>-0.233371</td>\n",
              "      <td>-0.320080</td>\n",
              "      <td>-0.414898</td>\n",
              "      <td>-0.608511</td>\n",
              "      <td>-2.059557</td>\n",
              "      <td>-0.312908</td>\n",
              "      <td>1.954437</td>\n",
              "      <td>-0.139469</td>\n",
              "      <td>-0.200373</td>\n",
              "      <td>-0.088739</td>\n",
              "      <td>-0.131063</td>\n",
              "      <td>-0.14538</td>\n",
              "      <td>0.23193</td>\n",
              "      <td>-0.312009</td>\n",
              "    </tr>\n",
              "    <tr>\n",
              "      <th>2</th>\n",
              "      <td>-0.715235</td>\n",
              "      <td>-0.444187</td>\n",
              "      <td>0.105827</td>\n",
              "      <td>-0.211824</td>\n",
              "      <td>-0.357808</td>\n",
              "      <td>-0.662350</td>\n",
              "      <td>2.069393</td>\n",
              "      <td>-0.977687</td>\n",
              "      <td>-0.200447</td>\n",
              "      <td>-0.288958</td>\n",
              "      <td>1.533238</td>\n",
              "      <td>3.629991</td>\n",
              "      <td>-0.384350</td>\n",
              "      <td>-0.459758</td>\n",
              "      <td>4.874807</td>\n",
              "      <td>1.083318</td>\n",
              "      <td>0.585191</td>\n",
              "      <td>-0.278066</td>\n",
              "      <td>-0.412762</td>\n",
              "      <td>-0.354681</td>\n",
              "      <td>-0.231076</td>\n",
              "      <td>0.923412</td>\n",
              "      <td>0.747496</td>\n",
              "      <td>-0.233371</td>\n",
              "      <td>1.431113</td>\n",
              "      <td>-0.414898</td>\n",
              "      <td>-0.608511</td>\n",
              "      <td>0.185453</td>\n",
              "      <td>-0.312908</td>\n",
              "      <td>0.463284</td>\n",
              "      <td>-0.139469</td>\n",
              "      <td>-0.200373</td>\n",
              "      <td>-0.088739</td>\n",
              "      <td>-0.131063</td>\n",
              "      <td>-0.14538</td>\n",
              "      <td>0.23193</td>\n",
              "      <td>-0.312009</td>\n",
              "    </tr>\n",
              "    <tr>\n",
              "      <th>3</th>\n",
              "      <td>1.398141</td>\n",
              "      <td>2.251305</td>\n",
              "      <td>0.055582</td>\n",
              "      <td>-0.211824</td>\n",
              "      <td>-0.357808</td>\n",
              "      <td>-0.662350</td>\n",
              "      <td>-0.220294</td>\n",
              "      <td>1.022823</td>\n",
              "      <td>-0.200447</td>\n",
              "      <td>-0.288958</td>\n",
              "      <td>1.533238</td>\n",
              "      <td>-0.275483</td>\n",
              "      <td>-0.384350</td>\n",
              "      <td>-0.459758</td>\n",
              "      <td>-0.205136</td>\n",
              "      <td>1.083318</td>\n",
              "      <td>-1.708845</td>\n",
              "      <td>-0.278066</td>\n",
              "      <td>-0.412762</td>\n",
              "      <td>-0.354681</td>\n",
              "      <td>-0.231076</td>\n",
              "      <td>-0.529738</td>\n",
              "      <td>-0.883875</td>\n",
              "      <td>-0.233371</td>\n",
              "      <td>0.263651</td>\n",
              "      <td>-0.414898</td>\n",
              "      <td>1.643356</td>\n",
              "      <td>-1.498305</td>\n",
              "      <td>-0.312908</td>\n",
              "      <td>-0.282292</td>\n",
              "      <td>-0.139469</td>\n",
              "      <td>-0.200373</td>\n",
              "      <td>-0.088739</td>\n",
              "      <td>-0.131063</td>\n",
              "      <td>-0.14538</td>\n",
              "      <td>0.23193</td>\n",
              "      <td>-0.312009</td>\n",
              "    </tr>\n",
              "    <tr>\n",
              "      <th>4</th>\n",
              "      <td>1.398141</td>\n",
              "      <td>-0.444187</td>\n",
              "      <td>0.206318</td>\n",
              "      <td>-0.211824</td>\n",
              "      <td>-0.357808</td>\n",
              "      <td>-0.662350</td>\n",
              "      <td>-0.220294</td>\n",
              "      <td>1.022823</td>\n",
              "      <td>-0.200447</td>\n",
              "      <td>-0.288958</td>\n",
              "      <td>-0.652215</td>\n",
              "      <td>-0.275483</td>\n",
              "      <td>2.601793</td>\n",
              "      <td>-0.459758</td>\n",
              "      <td>-0.205136</td>\n",
              "      <td>1.083318</td>\n",
              "      <td>0.585191</td>\n",
              "      <td>-0.278066</td>\n",
              "      <td>-0.412762</td>\n",
              "      <td>-0.354681</td>\n",
              "      <td>-0.231076</td>\n",
              "      <td>-0.529738</td>\n",
              "      <td>-0.557601</td>\n",
              "      <td>-0.233371</td>\n",
              "      <td>2.014844</td>\n",
              "      <td>-0.414898</td>\n",
              "      <td>-0.608511</td>\n",
              "      <td>-2.059557</td>\n",
              "      <td>-0.312908</td>\n",
              "      <td>-0.282292</td>\n",
              "      <td>-0.139469</td>\n",
              "      <td>4.990687</td>\n",
              "      <td>-0.088739</td>\n",
              "      <td>-0.131063</td>\n",
              "      <td>-0.14538</td>\n",
              "      <td>0.23193</td>\n",
              "      <td>-0.312009</td>\n",
              "    </tr>\n",
              "  </tbody>\n",
              "</table>\n",
              "</div>"
            ],
            "text/plain": [
              "   age_adult  diag_3_Diabetes  num_lab_procedures  number_emergency  \\\n",
              "0  -0.715235        -0.444187            0.708771         -0.211824   \n",
              "1   1.398141        -0.444187           -2.205458         -0.211824   \n",
              "2  -0.715235        -0.444187            0.105827         -0.211824   \n",
              "3   1.398141         2.251305            0.055582         -0.211824   \n",
              "4   1.398141        -0.444187            0.206318         -0.211824   \n",
              "\n",
              "   diag_2_Respiratory  diag_3_Others  num_procedures  readmitted_Yes  \\\n",
              "0           -0.357808      -0.662350        2.069393       -0.977687   \n",
              "1           -0.357808       1.509775        0.924550       -0.977687   \n",
              "2           -0.357808      -0.662350        2.069393       -0.977687   \n",
              "3           -0.357808      -0.662350       -0.220294        1.022823   \n",
              "4           -0.357808      -0.662350       -0.220294        1.022823   \n",
              "\n",
              "   diag_3_Digestive  diag_3_Respiratory  change_No  diag_1_Injury  \\\n",
              "0         -0.200447           -0.288958  -0.652215      -0.275483   \n",
              "1         -0.200447           -0.288958  -0.652215      -0.275483   \n",
              "2         -0.200447           -0.288958   1.533238       3.629991   \n",
              "3         -0.200447           -0.288958   1.533238      -0.275483   \n",
              "4         -0.200447           -0.288958  -0.652215      -0.275483   \n",
              "\n",
              "   diag_2_Diabetes  diag_1_Others  diag_2_Digestive  gender_Male  \\\n",
              "0         2.601793      -0.459758         -0.205136     1.083318   \n",
              "1         2.601793       2.175057         -0.205136    -0.923090   \n",
              "2        -0.384350      -0.459758          4.874807     1.083318   \n",
              "3        -0.384350      -0.459758         -0.205136     1.083318   \n",
              "4         2.601793      -0.459758         -0.205136     1.083318   \n",
              "\n",
              "   race_Caucasian  diag_3_Genitourinary  diag_1_Respiratory  diag_1_Diabetes  \\\n",
              "0        0.585191              3.596270           -0.412762        -0.354681   \n",
              "1        0.585191             -0.278066           -0.412762        -0.354681   \n",
              "2        0.585191             -0.278066           -0.412762        -0.354681   \n",
              "3       -1.708845             -0.278066           -0.412762        -0.354681   \n",
              "4        0.585191             -0.278066           -0.412762        -0.354681   \n",
              "\n",
              "   A1Cresult_Norm  number_inpatient  time_in_hospital  diag_1_Genitourinary  \\\n",
              "0       -0.231076         -0.529738          0.094948             -0.233371   \n",
              "1       -0.231076         -0.529738         -0.557601             -0.233371   \n",
              "2       -0.231076          0.923412          0.747496             -0.233371   \n",
              "3       -0.231076         -0.529738         -0.883875             -0.233371   \n",
              "4       -0.231076         -0.529738         -0.557601             -0.233371   \n",
              "\n",
              "   num_medications  A1Cresult_Not Normal  diag_2_Others  number_diagnoses  \\\n",
              "0        -0.203334             -0.414898      -0.608511          0.746706   \n",
              "1        -0.320080             -0.414898      -0.608511         -2.059557   \n",
              "2         1.431113             -0.414898      -0.608511          0.185453   \n",
              "3         0.263651             -0.414898       1.643356         -1.498305   \n",
              "4         2.014844             -0.414898      -0.608511         -2.059557   \n",
              "\n",
              "   diag_2_Genitourinary  number_outpatient  diag_3_Muscoloskeletal  \\\n",
              "0             -0.312908          -0.282292               -0.139469   \n",
              "1             -0.312908           1.954437               -0.139469   \n",
              "2             -0.312908           0.463284               -0.139469   \n",
              "3             -0.312908          -0.282292               -0.139469   \n",
              "4             -0.312908          -0.282292               -0.139469   \n",
              "\n",
              "   diag_1_Muscoloskeletal  age_child  race_Other  race_Hispanic  \\\n",
              "0               -0.200373  -0.088739   -0.131063       -0.14538   \n",
              "1               -0.200373  -0.088739   -0.131063       -0.14538   \n",
              "2               -0.200373  -0.088739   -0.131063       -0.14538   \n",
              "3               -0.200373  -0.088739   -0.131063       -0.14538   \n",
              "4                4.990687  -0.088739   -0.131063       -0.14538   \n",
              "\n",
              "   max_glu_serum_None  diag_1_Digestive  \n",
              "0             0.23193         -0.312009  \n",
              "1             0.23193         -0.312009  \n",
              "2             0.23193         -0.312009  \n",
              "3             0.23193         -0.312009  \n",
              "4             0.23193         -0.312009  "
            ]
          },
          "metadata": {
            "tags": []
          },
          "execution_count": 16
        }
      ]
    },
    {
      "cell_type": "code",
      "metadata": {
        "id": "B2qC-0lsNPZ-"
      },
      "source": [
        "from sklearn.metrics import classification_report,accuracy_score,roc_auc_score,roc_curve"
      ],
      "execution_count": null,
      "outputs": []
    },
    {
      "cell_type": "markdown",
      "metadata": {
        "id": "GZNWHoVMufbM"
      },
      "source": [
        "# lightgbm"
      ]
    },
    {
      "cell_type": "code",
      "metadata": {
        "id": "q3qgiA7Jr5of",
        "outputId": "60cffef7-50f3-43f5-9815-7bd449ae59de",
        "colab": {
          "base_uri": "https://localhost:8080/"
        }
      },
      "source": [
        "import lightgbm as lgb\n",
        "lgbm=lgb.LGBMClassifier()\n",
        "\n",
        "from sklearn.model_selection import RandomizedSearchCV\n",
        "from scipy.stats import randint as sp_randint\n",
        "from scipy.stats import uniform as sp_uniform\n",
        "\n",
        "params={ 'n_estimators': sp_randint(50,200),\n",
        "        'max_depth': sp_randint(2,15),\n",
        "        'learning_rate': sp_uniform(0.001,0.5),\n",
        "        'num_leaves':sp_randint(20,50)}\n",
        "        \n",
        "    \n",
        "rsearch_lgbm=RandomizedSearchCV(lgbm, param_distributions=params, cv=3, n_iter=100, random_state=3, n_jobs=-1)\n",
        "rsearch_lgbm.fit(Xtrain_t,ytrain)"
      ],
      "execution_count": null,
      "outputs": [
        {
          "output_type": "execute_result",
          "data": {
            "text/plain": [
              "RandomizedSearchCV(cv=3, error_score=nan,\n",
              "                   estimator=LGBMClassifier(boosting_type='gbdt',\n",
              "                                            class_weight=None,\n",
              "                                            colsample_bytree=1.0,\n",
              "                                            importance_type='split',\n",
              "                                            learning_rate=0.1, max_depth=-1,\n",
              "                                            min_child_samples=20,\n",
              "                                            min_child_weight=0.001,\n",
              "                                            min_split_gain=0.0,\n",
              "                                            n_estimators=100, n_jobs=-1,\n",
              "                                            num_leaves=31, objective=None,\n",
              "                                            random_state=None, reg_alpha=0.0,\n",
              "                                            reg_lambda=0.0, sile...\n",
              "                   param_distributions={'learning_rate': <scipy.stats._distn_infrastructure.rv_frozen object at 0x7f4dd815bac8>,\n",
              "                                        'max_depth': <scipy.stats._distn_infrastructure.rv_frozen object at 0x7f4dd815b550>,\n",
              "                                        'n_estimators': <scipy.stats._distn_infrastructure.rv_frozen object at 0x7f4dd815b3c8>,\n",
              "                                        'num_leaves': <scipy.stats._distn_infrastructure.rv_frozen object at 0x7f4dd815bdd8>},\n",
              "                   pre_dispatch='2*n_jobs', random_state=3, refit=True,\n",
              "                   return_train_score=False, scoring=None, verbose=0)"
            ]
          },
          "metadata": {
            "tags": []
          },
          "execution_count": 26
        }
      ]
    },
    {
      "cell_type": "code",
      "metadata": {
        "id": "z-XPDrIMvqJF",
        "outputId": "f1eb64ee-3a20-47b2-ef8e-94609e7ff760",
        "colab": {
          "base_uri": "https://localhost:8080/"
        }
      },
      "source": [
        "rsearch_lgbm.best_params_"
      ],
      "execution_count": null,
      "outputs": [
        {
          "output_type": "execute_result",
          "data": {
            "text/plain": [
              "{'learning_rate': 0.06166429060260803,\n",
              " 'max_depth': 7,\n",
              " 'n_estimators': 197,\n",
              " 'num_leaves': 30}"
            ]
          },
          "metadata": {
            "tags": []
          },
          "execution_count": 27
        }
      ]
    },
    {
      "cell_type": "code",
      "metadata": {
        "id": "rhqmTmASvpsB"
      },
      "source": [
        "model = lgb.LGBMClassifier(**rsearch_lgbm.best_params_)\n",
        "model.fit(Xtrain_t,ytrain)\n",
        "ypred = model.predict(Xtest_t)\n",
        "ypred1 = model.predict(Xtrain_t)\n",
        "yprob = model.predict_proba(Xtest_t)\n",
        "y_prob1=yprob[:,1]\n",
        "fpr,tpr,thresholds=roc_curve(ytest,y_prob1)"
      ],
      "execution_count": null,
      "outputs": []
    },
    {
      "cell_type": "code",
      "metadata": {
        "id": "Vj26g62lw4Bd",
        "outputId": "7a3b350f-d6d3-4237-f813-c24d73ec5f51",
        "colab": {
          "base_uri": "https://localhost:8080/",
          "height": 202
        }
      },
      "source": [
        "pdf=pd.DataFrame(yprob,columns=['y_prob0','y_prob1'])\n",
        "pdf['y_actual']=list(ytest)\n",
        "pdf.head()"
      ],
      "execution_count": null,
      "outputs": [
        {
          "output_type": "execute_result",
          "data": {
            "text/html": [
              "<div>\n",
              "<style scoped>\n",
              "    .dataframe tbody tr th:only-of-type {\n",
              "        vertical-align: middle;\n",
              "    }\n",
              "\n",
              "    .dataframe tbody tr th {\n",
              "        vertical-align: top;\n",
              "    }\n",
              "\n",
              "    .dataframe thead th {\n",
              "        text-align: right;\n",
              "    }\n",
              "</style>\n",
              "<table border=\"1\" class=\"dataframe\">\n",
              "  <thead>\n",
              "    <tr style=\"text-align: right;\">\n",
              "      <th></th>\n",
              "      <th>y_prob0</th>\n",
              "      <th>y_prob1</th>\n",
              "      <th>y_actual</th>\n",
              "    </tr>\n",
              "  </thead>\n",
              "  <tbody>\n",
              "    <tr>\n",
              "      <th>0</th>\n",
              "      <td>0.538301</td>\n",
              "      <td>0.461699</td>\n",
              "      <td>0</td>\n",
              "    </tr>\n",
              "    <tr>\n",
              "      <th>1</th>\n",
              "      <td>0.556425</td>\n",
              "      <td>0.443575</td>\n",
              "      <td>1</td>\n",
              "    </tr>\n",
              "    <tr>\n",
              "      <th>2</th>\n",
              "      <td>0.000044</td>\n",
              "      <td>0.999956</td>\n",
              "      <td>1</td>\n",
              "    </tr>\n",
              "    <tr>\n",
              "      <th>3</th>\n",
              "      <td>0.000053</td>\n",
              "      <td>0.999947</td>\n",
              "      <td>1</td>\n",
              "    </tr>\n",
              "    <tr>\n",
              "      <th>4</th>\n",
              "      <td>0.885604</td>\n",
              "      <td>0.114396</td>\n",
              "      <td>1</td>\n",
              "    </tr>\n",
              "  </tbody>\n",
              "</table>\n",
              "</div>"
            ],
            "text/plain": [
              "    y_prob0   y_prob1  y_actual\n",
              "0  0.538301  0.461699         0\n",
              "1  0.556425  0.443575         1\n",
              "2  0.000044  0.999956         1\n",
              "3  0.000053  0.999947         1\n",
              "4  0.885604  0.114396         1"
            ]
          },
          "metadata": {
            "tags": []
          },
          "execution_count": 29
        }
      ]
    },
    {
      "cell_type": "code",
      "metadata": {
        "id": "-V1_o2CTxGM_"
      },
      "source": [
        "p0=pdf[pdf['y_actual']==0]['y_prob1']\n",
        "p1=pdf[pdf['y_actual']==1]['y_prob1']"
      ],
      "execution_count": null,
      "outputs": []
    },
    {
      "cell_type": "code",
      "metadata": {
        "id": "h5nshvvsxLRT",
        "outputId": "37fc7006-e6ad-4572-ef9d-e8cac50de901",
        "colab": {
          "base_uri": "https://localhost:8080/",
          "height": 846
        }
      },
      "source": [
        "plt.figure(figsize=(10,6))\n",
        "x=[i/10 for i in range(11)]\n",
        "plt.plot(fpr,tpr,color='g')\n",
        "plt.plot(x,x,color='r')\n",
        "plt.title(f'ROC curve with auc score {roc_auc_score(ytest,y_prob1)}')\n",
        "plt.ylabel('True positive rate (tpr)')\n",
        "plt.xlabel('False Positive rate(fpr)')\n",
        "plt.show()\n",
        "\n",
        "plt.figure(figsize=(10,7))\n",
        "sns.distplot(p0,color='b',label='Probabality of class: 0')\n",
        "sns.distplot(p1,color='r',label='Probabality of class: 1')\n",
        "plt.title(f'auc score {roc_auc_score(ytest,y_prob1)}')\n",
        "plt.legend()\n",
        "plt.show()"
      ],
      "execution_count": null,
      "outputs": [
        {
          "output_type": "display_data",
          "data": {
            "image/png": "[encoded data removed]",
            "text/plain": [
              "<Figure size 720x432 with 1 Axes>"
            ]
          },
          "metadata": {
            "tags": [],
            "needs_background": "light"
          }
        },
        {
          "output_type": "display_data",
          "data": {
            "image/png": "[encoded data removed]",
            "text/plain": [
              "<Figure size 720x504 with 1 Axes>"
            ]
          },
          "metadata": {
            "tags": [],
            "needs_background": "light"
          }
        }
      ]
    },
    {
      "cell_type": "code",
      "metadata": {
        "id": "XB7jqfk3xLOi",
        "outputId": "129b39e6-5ca9-401f-d326-ce380a141b02",
        "colab": {
          "base_uri": "https://localhost:8080/"
        }
      },
      "source": [
        "print(classification_report(ytest,ypred))"
      ],
      "execution_count": null,
      "outputs": [
        {
          "output_type": "stream",
          "text": [
            "              precision    recall  f1-score   support\n",
            "\n",
            "           0       0.66      0.88      0.75      6756\n",
            "           1       0.87      0.66      0.75      8877\n",
            "\n",
            "    accuracy                           0.75     15633\n",
            "   macro avg       0.77      0.77      0.75     15633\n",
            "weighted avg       0.78      0.75      0.75     15633\n",
            "\n"
          ],
          "name": "stdout"
        }
      ]
    },
    {
      "cell_type": "code",
      "metadata": {
        "id": "4C9qOosmeCL3"
      },
      "source": [
        "print(classification_report(ytrain,ypred1))"
      ],
      "execution_count": null,
      "outputs": []
    },
    {
      "cell_type": "markdown",
      "metadata": {
        "id": "BX-_PDW8xdNn"
      },
      "source": [
        "# GradientBoosting"
      ]
    },
    {
      "cell_type": "code",
      "metadata": {
        "id": "WXyAnB7_zTuX",
        "outputId": "7ceb021f-a806-4835-aa8e-680b54d52cdc",
        "colab": {
          "base_uri": "https://localhost:8080/"
        }
      },
      "source": [
        "from sklearn.ensemble import GradientBoostingClassifier\n",
        "\n",
        "gdBoost = GradientBoostingClassifier()\n",
        "from sklearn.model_selection import RandomizedSearchCV\n",
        "from scipy.stats import randint as sp_randint\n",
        "from scipy.stats import uniform as sp_uniform\n",
        "\n",
        "params={ 'n_estimators': sp_randint(50,200),\n",
        "        'max_depth': sp_randint(2,15),\n",
        "        'learning_rate': sp_uniform(0.001,0.5),\n",
        "        'min_samples_leaf': sp_randint(2,15),\n",
        "        'min_samples_split': sp_randint(2,15)}\n",
        "        \n",
        "    \n",
        "rsearch_gdBoost = RandomizedSearchCV(gdBoost, param_distributions=params, cv=3, n_iter=100, random_state=3, n_jobs=-1)\n",
        "rsearch_gdBoost.fit(Xtrain_t,ytrain)"
      ],
      "execution_count": null,
      "outputs": [
        {
          "output_type": "execute_result",
          "data": {
            "text/plain": [
              "RandomizedSearchCV(cv=3, error_score=nan,\n",
              "                   estimator=GradientBoostingClassifier(ccp_alpha=0.0,\n",
              "                                                        criterion='friedman_mse',\n",
              "                                                        init=None,\n",
              "                                                        learning_rate=0.1,\n",
              "                                                        loss='deviance',\n",
              "                                                        max_depth=3,\n",
              "                                                        max_features=None,\n",
              "                                                        max_leaf_nodes=None,\n",
              "                                                        min_impurity_decrease=0.0,\n",
              "                                                        min_impurity_split=None,\n",
              "                                                        min_samples_leaf=1,\n",
              "                                                        min_samples_split=2,\n",
              "                                                        min_weight_fraction_leaf=0.0,\n",
              "                                                        n_estimators=100,\n",
              "                                                        n_ite...\n",
              "                                        'min_samples_leaf': <scipy.stats._distn_infrastructure.rv_frozen object at 0x7f4dd3a17ac8>,\n",
              "                                        'min_samples_split': <scipy.stats._distn_infrastructure.rv_frozen object at 0x7f4dd3a177f0>,\n",
              "                                        'n_estimators': <scipy.stats._distn_infrastructure.rv_frozen object at 0x7f4dd3a171d0>},\n",
              "                   pre_dispatch='2*n_jobs', random_state=3, refit=True,\n",
              "                   return_train_score=False, scoring=None, verbose=0)"
            ]
          },
          "metadata": {
            "tags": []
          },
          "execution_count": 45
        }
      ]
    },
    {
      "cell_type": "code",
      "metadata": {
        "id": "YKPK8RitTxlw",
        "outputId": "019b43e4-7802-4c1c-e8a5-e3b12e84be8c",
        "colab": {
          "base_uri": "https://localhost:8080/"
        }
      },
      "source": [
        "rsearch_gdBoost.best_params_"
      ],
      "execution_count": null,
      "outputs": [
        {
          "output_type": "execute_result",
          "data": {
            "text/plain": [
              "{'learning_rate': 0.05910829321971095,\n",
              " 'max_depth': 6,\n",
              " 'min_samples_leaf': 3,\n",
              " 'min_samples_split': 8,\n",
              " 'n_estimators': 185}"
            ]
          },
          "metadata": {
            "tags": []
          },
          "execution_count": 46
        }
      ]
    },
    {
      "cell_type": "code",
      "metadata": {
        "id": "EwkulNfocLSO"
      },
      "source": [
        "model = GradientBoostingClassifier(**rsearch_gdBoost.best_params_)\n",
        "model.fit(Xtrain_t,ytrain)\n",
        "ypred = model.predict(Xtest_t)\n",
        "ypred1 = model.predict(Xtrain_t)\n",
        "yprob = model.predict_proba(Xtest_t)\n",
        "y_prob1=yprob[:,1]\n",
        "fpr,tpr,thresholds=roc_curve(ytest,y_prob1)"
      ],
      "execution_count": null,
      "outputs": []
    },
    {
      "cell_type": "code",
      "metadata": {
        "id": "-CkGpz01cLHl",
        "outputId": "076e16e9-6707-439c-adc4-22120e38e009",
        "colab": {
          "base_uri": "https://localhost:8080/",
          "height": 202
        }
      },
      "source": [
        "pdf=pd.DataFrame(yprob,columns=['y_prob0','y_prob1'])\n",
        "pdf['y_actual']=list(ytest)\n",
        "pdf.head()"
      ],
      "execution_count": null,
      "outputs": [
        {
          "output_type": "execute_result",
          "data": {
            "text/html": [
              "<div>\n",
              "<style scoped>\n",
              "    .dataframe tbody tr th:only-of-type {\n",
              "        vertical-align: middle;\n",
              "    }\n",
              "\n",
              "    .dataframe tbody tr th {\n",
              "        vertical-align: top;\n",
              "    }\n",
              "\n",
              "    .dataframe thead th {\n",
              "        text-align: right;\n",
              "    }\n",
              "</style>\n",
              "<table border=\"1\" class=\"dataframe\">\n",
              "  <thead>\n",
              "    <tr style=\"text-align: right;\">\n",
              "      <th></th>\n",
              "      <th>y_prob0</th>\n",
              "      <th>y_prob1</th>\n",
              "      <th>y_actual</th>\n",
              "    </tr>\n",
              "  </thead>\n",
              "  <tbody>\n",
              "    <tr>\n",
              "      <th>0</th>\n",
              "      <td>0.473754</td>\n",
              "      <td>0.526246</td>\n",
              "      <td>0</td>\n",
              "    </tr>\n",
              "    <tr>\n",
              "      <th>1</th>\n",
              "      <td>0.573488</td>\n",
              "      <td>0.426512</td>\n",
              "      <td>1</td>\n",
              "    </tr>\n",
              "    <tr>\n",
              "      <th>2</th>\n",
              "      <td>0.001299</td>\n",
              "      <td>0.998701</td>\n",
              "      <td>1</td>\n",
              "    </tr>\n",
              "    <tr>\n",
              "      <th>3</th>\n",
              "      <td>0.001229</td>\n",
              "      <td>0.998771</td>\n",
              "      <td>1</td>\n",
              "    </tr>\n",
              "    <tr>\n",
              "      <th>4</th>\n",
              "      <td>0.875830</td>\n",
              "      <td>0.124170</td>\n",
              "      <td>1</td>\n",
              "    </tr>\n",
              "  </tbody>\n",
              "</table>\n",
              "</div>"
            ],
            "text/plain": [
              "    y_prob0   y_prob1  y_actual\n",
              "0  0.473754  0.526246         0\n",
              "1  0.573488  0.426512         1\n",
              "2  0.001299  0.998701         1\n",
              "3  0.001229  0.998771         1\n",
              "4  0.875830  0.124170         1"
            ]
          },
          "metadata": {
            "tags": []
          },
          "execution_count": 49
        }
      ]
    },
    {
      "cell_type": "code",
      "metadata": {
        "id": "BC-aBZrOco9y"
      },
      "source": [
        "p0=pdf[pdf['y_actual']==0]['y_prob1']\n",
        "p1=pdf[pdf['y_actual']==1]['y_prob1']"
      ],
      "execution_count": null,
      "outputs": []
    },
    {
      "cell_type": "code",
      "metadata": {
        "id": "FtMuHCoIcuxm",
        "outputId": "1349fd9d-6181-4d6f-f1c9-55e48e2074d2",
        "colab": {
          "base_uri": "https://localhost:8080/",
          "height": 846
        }
      },
      "source": [
        "plt.figure(figsize=(10,6))\n",
        "x=[i/10 for i in range(11)]\n",
        "plt.plot(fpr,tpr,color='g')\n",
        "plt.plot(x,x,color='r')\n",
        "plt.title(f'ROC curve with auc score {roc_auc_score(ytest,y_prob1)}')\n",
        "plt.ylabel('True positive rate (tpr)')\n",
        "plt.xlabel('False Positive rate(fpr)')\n",
        "plt.show()\n",
        "\n",
        "plt.figure(figsize=(10,7))\n",
        "sns.distplot(p0,color='b',label='Probabality of class: 0')\n",
        "sns.distplot(p1,color='r',label='Probabality of class: 1')\n",
        "plt.title(f'auc score {roc_auc_score(ytest,y_prob1)}')\n",
        "plt.legend()\n",
        "plt.show()"
      ],
      "execution_count": null,
      "outputs": [
        {
          "output_type": "display_data",
          "data": {
            "image/png": "[encoded data removed]",
            "text/plain": [
              "<Figure size 720x432 with 1 Axes>"
            ]
          },
          "metadata": {
            "tags": [],
            "needs_background": "light"
          }
        },
        {
          "output_type": "display_data",
          "data": {
            "image/png": "[encoded data removed]",
            "text/plain": [
              "<Figure size 720x504 with 1 Axes>"
            ]
          },
          "metadata": {
            "tags": [],
            "needs_background": "light"
          }
        }
      ]
    },
    {
      "cell_type": "code",
      "metadata": {
        "id": "LuVEwJ76curT",
        "outputId": "8b315c3b-b46c-4039-919e-2c8bd59050fc",
        "colab": {
          "base_uri": "https://localhost:8080/"
        }
      },
      "source": [
        "print(classification_report(ytest,ypred))"
      ],
      "execution_count": null,
      "outputs": [
        {
          "output_type": "stream",
          "text": [
            "              precision    recall  f1-score   support\n",
            "\n",
            "           0       0.66      0.88      0.75      6756\n",
            "           1       0.87      0.66      0.75      8877\n",
            "\n",
            "    accuracy                           0.75     15633\n",
            "   macro avg       0.77      0.77      0.75     15633\n",
            "weighted avg       0.78      0.75      0.75     15633\n",
            "\n"
          ],
          "name": "stdout"
        }
      ]
    },
    {
      "cell_type": "code",
      "metadata": {
        "id": "MEiW1GgneHcm"
      },
      "source": [
        "print(classification_report(ytrain,ypred1))"
      ],
      "execution_count": null,
      "outputs": []
    },
    {
      "cell_type": "markdown",
      "metadata": {
        "id": "-j45S-_LdMtL"
      },
      "source": [
        "# XG boost"
      ]
    },
    {
      "cell_type": "code",
      "metadata": {
        "id": "ydE9f_Y-dKBy",
        "outputId": "60643850-9f88-4d81-f6dd-9c6091e8b6c3",
        "colab": {
          "base_uri": "https://localhost:8080/"
        }
      },
      "source": [
        "from xgboost import XGBClassifier\n",
        "xgBoost = XGBClassifier()\n",
        "from sklearn.model_selection import RandomizedSearchCV\n",
        "from scipy.stats import randint as sp_randint\n",
        "from scipy.stats import uniform as sp_uniform\n",
        "\n",
        "params={ 'n_estimators': sp_randint(50,200),\n",
        "        \"max_depth\": sp_randint(1,20),\n",
        "        'learning_rate': sp_uniform(0.001,0.5),\n",
        "        \"min_child_weight\" : sp_randint(1,10),\n",
        "        \"gamma\" : sp_uniform(0.0,0.7),\n",
        "        \"colsample_bytree\" : sp_uniform(0.0,.9)}\n",
        "        \n",
        "    \n",
        "rsearch_xgBoos = RandomizedSearchCV(xgBoost, param_distributions=params, cv=3, n_iter=100, random_state=3, n_jobs=-1)\n",
        "rsearch_xgBoos.fit(Xtrain_t,ytrain)"
      ],
      "execution_count": null,
      "outputs": [
        {
          "output_type": "execute_result",
          "data": {
            "text/plain": [
              "RandomizedSearchCV(cv=3, error_score=nan,\n",
              "                   estimator=XGBClassifier(base_score=0.5, booster='gbtree',\n",
              "                                           colsample_bylevel=1,\n",
              "                                           colsample_bynode=1,\n",
              "                                           colsample_bytree=1, gamma=0,\n",
              "                                           learning_rate=0.1, max_delta_step=0,\n",
              "                                           max_depth=3, min_child_weight=1,\n",
              "                                           missing=None, n_estimators=100,\n",
              "                                           n_jobs=1, nthread=None,\n",
              "                                           objective='binary:logistic',\n",
              "                                           random_state=0, reg_alpha=0,\n",
              "                                           reg_lambda=1, sc...\n",
              "                                        'learning_rate': <scipy.stats._distn_infrastructure.rv_frozen object at 0x7f4dd38d3320>,\n",
              "                                        'max_depth': <scipy.stats._distn_infrastructure.rv_frozen object at 0x7f4dd38dff98>,\n",
              "                                        'min_child_weight': <scipy.stats._distn_infrastructure.rv_frozen object at 0x7f4dd38d3908>,\n",
              "                                        'n_estimators': <scipy.stats._distn_infrastructure.rv_frozen object at 0x7f4dd38dfcc0>},\n",
              "                   pre_dispatch='2*n_jobs', random_state=3, refit=True,\n",
              "                   return_train_score=False, scoring=None, verbose=0)"
            ]
          },
          "metadata": {
            "tags": []
          },
          "execution_count": 54
        }
      ]
    },
    {
      "cell_type": "code",
      "metadata": {
        "id": "P5jLpCu3ixtB",
        "outputId": "940b0037-5631-412a-9ebe-4aeeb178915e",
        "colab": {
          "base_uri": "https://localhost:8080/"
        }
      },
      "source": [
        "rsearch_xgBoos.best_params_"
      ],
      "execution_count": null,
      "outputs": [
        {
          "output_type": "execute_result",
          "data": {
            "text/plain": [
              "{'colsample_bytree': 0.4987836786350899,\n",
              " 'gamma': 0.4732024405692034,\n",
              " 'learning_rate': 0.35046469326049906,\n",
              " 'max_depth': 3,\n",
              " 'min_child_weight': 6,\n",
              " 'n_estimators': 85}"
            ]
          },
          "metadata": {
            "tags": []
          },
          "execution_count": 55
        }
      ]
    },
    {
      "cell_type": "code",
      "metadata": {
        "id": "JduNSFRBixj2"
      },
      "source": [
        "model = XGBClassifier(**rsearch_xgBoos.best_params_)\n",
        "model.fit(Xtrain_t,ytrain)\n",
        "ypred = model.predict(Xtest_t)\n",
        "ypred1 = model.predict(Xtrain_t)\n",
        "yprob = model.predict_proba(Xtest_t)\n",
        "y_prob1=yprob[:,1]\n",
        "fpr,tpr,thresholds=roc_curve(ytest,y_prob1)"
      ],
      "execution_count": null,
      "outputs": []
    },
    {
      "cell_type": "code",
      "metadata": {
        "id": "Jv1Y3vZBoWwQ",
        "outputId": "269671cc-cb45-4707-95eb-c7272831b9af",
        "colab": {
          "base_uri": "https://localhost:8080/",
          "height": 202
        }
      },
      "source": [
        "pdf=pd.DataFrame(yprob,columns=['y_prob0','y_prob1'])\n",
        "pdf['y_actual']=list(ytest)\n",
        "pdf.head()"
      ],
      "execution_count": null,
      "outputs": [
        {
          "output_type": "execute_result",
          "data": {
            "text/html": [
              "<div>\n",
              "<style scoped>\n",
              "    .dataframe tbody tr th:only-of-type {\n",
              "        vertical-align: middle;\n",
              "    }\n",
              "\n",
              "    .dataframe tbody tr th {\n",
              "        vertical-align: top;\n",
              "    }\n",
              "\n",
              "    .dataframe thead th {\n",
              "        text-align: right;\n",
              "    }\n",
              "</style>\n",
              "<table border=\"1\" class=\"dataframe\">\n",
              "  <thead>\n",
              "    <tr style=\"text-align: right;\">\n",
              "      <th></th>\n",
              "      <th>y_prob0</th>\n",
              "      <th>y_prob1</th>\n",
              "      <th>y_actual</th>\n",
              "    </tr>\n",
              "  </thead>\n",
              "  <tbody>\n",
              "    <tr>\n",
              "      <th>0</th>\n",
              "      <td>0.560177</td>\n",
              "      <td>0.439823</td>\n",
              "      <td>0</td>\n",
              "    </tr>\n",
              "    <tr>\n",
              "      <th>1</th>\n",
              "      <td>0.585524</td>\n",
              "      <td>0.414476</td>\n",
              "      <td>1</td>\n",
              "    </tr>\n",
              "    <tr>\n",
              "      <th>2</th>\n",
              "      <td>0.000406</td>\n",
              "      <td>0.999594</td>\n",
              "      <td>1</td>\n",
              "    </tr>\n",
              "    <tr>\n",
              "      <th>3</th>\n",
              "      <td>0.000614</td>\n",
              "      <td>0.999386</td>\n",
              "      <td>1</td>\n",
              "    </tr>\n",
              "    <tr>\n",
              "      <th>4</th>\n",
              "      <td>0.858920</td>\n",
              "      <td>0.141080</td>\n",
              "      <td>1</td>\n",
              "    </tr>\n",
              "  </tbody>\n",
              "</table>\n",
              "</div>"
            ],
            "text/plain": [
              "    y_prob0   y_prob1  y_actual\n",
              "0  0.560177  0.439823         0\n",
              "1  0.585524  0.414476         1\n",
              "2  0.000406  0.999594         1\n",
              "3  0.000614  0.999386         1\n",
              "4  0.858920  0.141080         1"
            ]
          },
          "metadata": {
            "tags": []
          },
          "execution_count": 57
        }
      ]
    },
    {
      "cell_type": "code",
      "metadata": {
        "id": "DV6fW0BVoWl_"
      },
      "source": [
        "p0=pdf[pdf['y_actual']==0]['y_prob1']\n",
        "p1=pdf[pdf['y_actual']==1]['y_prob1']"
      ],
      "execution_count": null,
      "outputs": []
    },
    {
      "cell_type": "code",
      "metadata": {
        "id": "jLXXHiQVogjh",
        "outputId": "edb894c6-5bb7-4a5a-a90c-099c494539f4",
        "colab": {
          "base_uri": "https://localhost:8080/",
          "height": 846
        }
      },
      "source": [
        "plt.figure(figsize=(10,6))\n",
        "x=[i/10 for i in range(11)]\n",
        "plt.plot(fpr,tpr,color='g')\n",
        "plt.plot(x,x,color='r')\n",
        "plt.title(f'ROC curve with auc score {roc_auc_score(ytest,y_prob1)}')\n",
        "plt.ylabel('True positive rate (tpr)')\n",
        "plt.xlabel('False Positive rate(fpr)')\n",
        "plt.show()\n",
        "\n",
        "plt.figure(figsize=(10,7))\n",
        "sns.distplot(p0,color='b',label='Probabality of class: 0')\n",
        "sns.distplot(p1,color='r',label='Probabality of class: 1')\n",
        "plt.title(f'auc score {roc_auc_score(ytest,y_prob1)}')\n",
        "plt.legend()\n",
        "plt.show()"
      ],
      "execution_count": null,
      "outputs": [
        {
          "output_type": "display_data",
          "data": {
            "image/png": "[encoded data removed]",
            "text/plain": [
              "<Figure size 720x432 with 1 Axes>"
            ]
          },
          "metadata": {
            "tags": [],
            "needs_background": "light"
          }
        },
        {
          "output_type": "display_data",
          "data": {
            "image/png": "[encoded data removed]",
            "text/plain": [
              "<Figure size 720x504 with 1 Axes>"
            ]
          },
          "metadata": {
            "tags": [],
            "needs_background": "light"
          }
        }
      ]
    },
    {
      "cell_type": "code",
      "metadata": {
        "id": "Xwgb0OZHogfo",
        "outputId": "9981f945-ad1e-46e9-9fce-696ceffd87fa",
        "colab": {
          "base_uri": "https://localhost:8080/"
        }
      },
      "source": [
        "print(classification_report(ytest,ypred))"
      ],
      "execution_count": null,
      "outputs": [
        {
          "output_type": "stream",
          "text": [
            "              precision    recall  f1-score   support\n",
            "\n",
            "           0       0.66      0.87      0.75      6756\n",
            "           1       0.87      0.66      0.75      8877\n",
            "\n",
            "    accuracy                           0.75     15633\n",
            "   macro avg       0.77      0.77      0.75     15633\n",
            "weighted avg       0.78      0.75      0.75     15633\n",
            "\n"
          ],
          "name": "stdout"
        }
      ]
    },
    {
      "cell_type": "code",
      "metadata": {
        "id": "Jn6J2zyAogdy"
      },
      "source": [
        "print(classification_report(ytrain,ypred1))"
      ],
      "execution_count": null,
      "outputs": []
    },
    {
      "cell_type": "code",
      "metadata": {
        "id": "nsrBwpUJI1kW"
      },
      "source": [
        ""
      ],
      "execution_count": null,
      "outputs": []
    },
    {
      "cell_type": "code",
      "metadata": {
        "id": "Oa_V58yXI1rr"
      },
      "source": [
        ""
      ],
      "execution_count": null,
      "outputs": []
    },
    {
      "cell_type": "code",
      "metadata": {
        "id": "31bjQUO5I1_q"
      },
      "source": [
        ""
      ],
      "execution_count": null,
      "outputs": []
    },
    {
      "cell_type": "code",
      "metadata": {
        "id": "baF1g9BwI1n_"
      },
      "source": [
        ""
      ],
      "execution_count": null,
      "outputs": []
    },
    {
      "cell_type": "code",
      "metadata": {
        "id": "ecFhsGL7I1gy"
      },
      "source": [
        ""
      ],
      "execution_count": null,
      "outputs": []
    }
  ]
}